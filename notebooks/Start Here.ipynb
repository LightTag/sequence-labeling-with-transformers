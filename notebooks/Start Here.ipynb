{
 "cells": [
  {
   "cell_type": "markdown",
   "metadata": {},
   "source": [
    "# What Is This\n",
    "This notebook shows how to use the utilities in the repo to quickly start a sequence labeling training. \n",
    "The utilities take care of alignment, padding, batching and windowing. \n",
    "For a walk through of the utiltiies see our [tutorial on sequence labeling with transformers](https://lighttag.io/blog/sequence-labeling-with-transformers/example). For the reasoning behind it see our semi-essay on the considerations of [aligning span annotations to Huggingface tokenizer outputs](https://www.lighttag.io/blog/sequence-labeling-with-transformers/) "
   ]
  },
  {
   "cell_type": "code",
   "execution_count": 1,
   "metadata": {},
   "outputs": [],
   "source": [
    "cd .."
   ]
  },
  {
   "cell_type": "code",
   "execution_count": 8,
   "metadata": {},
   "outputs": [],
   "source": [
    "from sequence_aligner.labelset import LabelSet\n",
    "from sequence_aligner.dataset import  TrainingDataset\n",
    "from sequence_aligner.containers import TrainingBatch\n",
    "import json\n"
   ]
  },
  {
   "cell_type": "code",
   "execution_count": 5,
   "metadata": {},
   "outputs": [],
   "source": [
    "## Load The Raw Data\n",
    "raw = json.load(open('./data/ddi_train.json'))\n",
    "for example in raw:\n",
    "    for annotation in example['annotations']:\n",
    "        #We expect the key of label to be label but the data has tag\n",
    "        annotation['label'] = annotation['tag']"
   ]
  },
  {
   "cell_type": "code",
   "execution_count": 7,
   "metadata": {},
   "outputs": [],
   "source": [
    "from transformers import BertTokenizerFast\n",
    "tokenizer = BertTokenizerFast.from_pretrained('bert-base-cased')\n",
    "label_set = LabelSet(labels=[\"drug\"]) #Only one label in this dataset\n",
    "dataset = TrainingDataset(data=raw,tokenizer=tokenizer,label_set=label_set)"
   ]
  },
  {
   "cell_type": "code",
   "execution_count": 12,
   "metadata": {},
   "outputs": [
    {
     "name": "stderr",
     "output_type": "stream",
     "text": [
      "Some weights of the model checkpoint at bert-base-cased were not used when initializing BertForTokenClassification: ['cls.predictions.bias', 'cls.predictions.transform.dense.weight', 'cls.predictions.transform.dense.bias', 'cls.predictions.decoder.weight', 'cls.seq_relationship.weight', 'cls.seq_relationship.bias', 'cls.predictions.transform.LayerNorm.weight', 'cls.predictions.transform.LayerNorm.bias']\n",
      "- This IS expected if you are initializing BertForTokenClassification from the checkpoint of a model trained on another task or with another architecture (e.g. initializing a BertForSequenceClassification model from a BertForPretraining model).\n",
      "- This IS NOT expected if you are initializing BertForTokenClassification from the checkpoint of a model that you expect to be exactly identical (initializing a BertForSequenceClassification model from a BertForSequenceClassification model).\n",
      "Some weights of BertForTokenClassification were not initialized from the model checkpoint at bert-base-cased and are newly initialized: ['classifier.weight', 'classifier.bias']\n",
      "You should probably TRAIN this model on a down-stream task to be able to use it for predictions and inference.\n"
     ]
    },
    {
     "name": "stdout",
     "output_type": "stream",
     "text": [
      "tensor(1.6381, grad_fn=<NllLossBackward>)\n",
      "tensor(1.4514, grad_fn=<NllLossBackward>)\n",
      "tensor(1.5203, grad_fn=<NllLossBackward>)\n",
      "tensor(1.3982, grad_fn=<NllLossBackward>)\n",
      "tensor(1.2953, grad_fn=<NllLossBackward>)\n"
     ]
    }
   ],
   "source": [
    "from torch.utils.data import DataLoader\n",
    "from transformers import BertForTokenClassification,AdamW\n",
    "model = BertForTokenClassification.from_pretrained(\n",
    "    \"bert-base-cased\", num_labels=len(dataset.label_set.ids_to_label.values())\n",
    ")\n",
    "optimizer = AdamW(model.parameters(), lr=5e-6)\n",
    "\n",
    "dataloader = DataLoader(\n",
    "    dataset,\n",
    "    collate_fn=TrainingBatch,\n",
    "    batch_size=4,\n",
    "    shuffle=True,\n",
    ")\n",
    "for num, batch in enumerate(dataloader):\n",
    "    loss, logits = model(\n",
    "        input_ids=batch.input_ids,\n",
    "        attention_mask=batch.attention_masks,\n",
    "        labels=batch.labels,\n",
    "    )\n",
    "    loss.backward()\n",
    "    optimizer.step()\n",
    "    print(loss)\n",
    "    if num > 3:\n",
    "        break"
   ]
  }
 ],
 "metadata": {
  "kernelspec": {
   "display_name": "Python 3",
   "language": "python",
   "name": "python3"
  },
  "language_info": {
   "codemirror_mode": {
    "name": "ipython",
    "version": 3
   },
   "file_extension": ".py",
   "mimetype": "text/x-python",
   "name": "python",
   "nbconvert_exporter": "python",
   "pygments_lexer": "ipython3",
   "version": "3.6.9"
  }
 },
 "nbformat": 4,
 "nbformat_minor": 2
}
